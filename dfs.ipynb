{
 "cells": [
  {
   "attachments": {},
   "cell_type": "markdown",
   "metadata": {},
   "source": [
    "AIM:\n",
    "Using the DFS algorithm for traversing a undirected graph."
   ]
  },
  {
   "attachments": {},
   "cell_type": "markdown",
   "metadata": {},
   "source": [
    "THEORY:\n",
    "DFS (Depth-First Search) is a graph traversal algorithm that explores a graph or tree by visiting as far as possible along each branch before backtracking.\n",
    "The DFS algorithm can be implemented using either recursion or an explicit stack data structure. In the recursive implementation, the algorithm explores the graph or tree by calling the DFS function on each unvisited neighbor, resulting in a depth-first traversal of the graph or tree. In the stack-based implementation, the algorithm uses a stack to keep track of the nodes to visit, resulting in an iterative depth-first traversal of the graph or tree."
   ]
  },
  {
   "attachments": {},
   "cell_type": "markdown",
   "metadata": {},
   "source": [
    "Algorithm:\n",
    "Here are the steps involved in the DFS algorithm:\n",
    "\n",
    "  1.  Start with a node: Choose a starting node in the graph or tree to begin traversal.\n",
    "\n",
    "  2.  Visit the node: Visit the starting node, mark it as visited, and add it to the visited set.\n",
    "\n",
    "  3.  Explore the neighbors: Check all the adjacent nodes of the current node. For each unvisited neighbor, apply DFS recursively to visit all of its neighbors.\n",
    "\n",
    "  4. Backtrack: If there are no more unvisited neighbors, backtrack to the previous node in the graph or tree and continue the DFS algorithm until all nodes are visited.\n",
    "\n",
    "  5.  Repeat: If there are still unvisited nodes, repeat the above steps, choosing a new unvisited node as the starting node."
   ]
  },
  {
   "cell_type": "code",
   "execution_count": 1,
   "metadata": {},
   "outputs": [],
   "source": [
    "def dfs(graph, source, visited = None):\n",
    "    if visited is None:\n",
    "        visited = set()\n",
    "    visited.add(source)\n",
    "    print(source)\n",
    "    for adjacent_node in graph[source] - visited:\n",
    "        dfs(graph, adjacent_node, visited)\n",
    "    return visited"
   ]
  },
  {
   "cell_type": "code",
   "execution_count": 8,
   "metadata": {},
   "outputs": [],
   "source": [
    "graph = {\n",
    "    'A': {'B', 'C'},\n",
    "    'B': {'A', 'D', 'E'},\n",
    "    'C': {'A', 'F'},\n",
    "    'D': {'B'},\n",
    "    'E': {'B', 'F'},\n",
    "    'F': {'C', 'E'}\n",
    "}\n"
   ]
  },
  {
   "cell_type": "code",
   "execution_count": 9,
   "metadata": {},
   "outputs": [
    {
     "name": "stdout",
     "output_type": "stream",
     "text": [
      "A\n",
      "B\n",
      "E\n",
      "F\n",
      "C\n",
      "D\n",
      "C\n"
     ]
    },
    {
     "data": {
      "text/plain": [
       "{'A', 'B', 'C', 'D', 'E', 'F'}"
      ]
     },
     "execution_count": 9,
     "metadata": {},
     "output_type": "execute_result"
    }
   ],
   "source": [
    "dfs(graph, \"A\")"
   ]
  }
 ],
 "metadata": {
  "kernelspec": {
   "display_name": "venv",
   "language": "python",
   "name": "python3"
  },
  "language_info": {
   "codemirror_mode": {
    "name": "ipython",
    "version": 3
   },
   "file_extension": ".py",
   "mimetype": "text/x-python",
   "name": "python",
   "nbconvert_exporter": "python",
   "pygments_lexer": "ipython3",
   "version": "3.9.12"
  },
  "orig_nbformat": 4
 },
 "nbformat": 4,
 "nbformat_minor": 2
}
