{
 "cells": [
  {
   "attachments": {},
   "cell_type": "markdown",
   "metadata": {},
   "source": [
    "AIM:\n",
    "Use the A* Algorithm to find the least cost path between various nodes in a weighted graph."
   ]
  },
  {
   "attachments": {},
   "cell_type": "markdown",
   "metadata": {},
   "source": [
    "THEORY:\n",
    "A* Search is an informed search algorithm used for pathfinding and graph traversal. It uses a heuristic function to guide the search towards the goal state, making it more efficient than an uninformed search algorithm like Breadth-First Search or Depth-First Search. \n",
    "\n",
    "The heuristic function used in A* Search is admissible, meaning it never overestimates the cost to reach the goal. This property ensures that the algorithm finds the optimal path to the goal state if one exists. A common heuristic used in pathfinding problems is the Euclidean distance or Manhattan distance between the current node and the goal state.\n",
    "\n",
    "A* Search is a popular algorithm used in various applications such as robotics, video games, and GPS systems, where finding the shortest path between two points is crucial.\n"
   ]
  },
  {
   "attachments": {},
   "cell_type": "markdown",
   "metadata": {},
   "source": [
    "ALGORITHM:\n",
    "The algorithm follows the following steps:\n",
    "\n",
    "  1.  Initialize the open and closed sets: The open set contains the nodes that have been visited but not expanded, while the closed set contains the nodes that have been visited and expanded.\n",
    "\n",
    "  2.  Add the starting node to the open set: The starting node is the node from which the search begins.\n",
    "\n",
    "  3.  Loop until the goal is found or the open set is empty:\n",
    "    a. Select the node with the lowest f-value from the open set. The f-value is the sum of the cost to reach the node and the estimated cost to reach the goal.\n",
    "    b. If the selected node is the goal state, return the solution.\n",
    "    c. Expand the selected node by generating its successors and calculating their f, g, and h values.\n",
    "    d. For each successor, check if it is in the closed set or open set. If it is not, add it to the open set. If it is, update its g-value if the new path is shorter than the previous one.\n",
    "    e. Add the selected node to the closed set.\n",
    "\n",
    "  4.  If the open set is empty and the goal has not been found, there is no solution."
   ]
  },
  {
   "attachments": {},
   "cell_type": "markdown",
   "metadata": {},
   "source": [
    "![](graph.png)"
   ]
  },
  {
   "cell_type": "code",
   "execution_count": 1,
   "metadata": {},
   "outputs": [],
   "source": [
    "def aStarAlgo(start_node, stop_node):\n",
    "    open_set = set(start_node)\n",
    "    close_set = set()\n",
    "    g = {} #store the starting node\n",
    "    parents = {} #parents of adjacency map of all nodes\n",
    "\n",
    "    # distance of starting node to itself\n",
    "    g[start_node] = 0\n",
    "    parents[start_node] = start_node #start_node is the parent of itself\n",
    "\n",
    "    while len(open_set) > 0 :\n",
    "        n = None\n",
    "        # node with lowest cost function\n",
    "        for v in open_set :\n",
    "            if n == None or g[v] + heuristic(v) < g[n] + heuristic(n):\n",
    "                n = v\n",
    "        if n == stop_node or Graph_nodes[n] == None:\n",
    "            pass\n",
    "        else:\n",
    "            for(m, weight) in get_neighbors(n):\n",
    "                if m not in open_set and m not in close_set:\n",
    "                    open_set.add(m)\n",
    "                    parents[m] = n\n",
    "                    g[m] = g[n] + weight\n",
    "                \n",
    "                else:\n",
    "                    if g[m] > g[n] + weight:\n",
    "                       g[m] = g[n] + weight\n",
    "                       parents[m] = n\n",
    "                    if m in close_set:\n",
    "                        close_set.remove(m)\n",
    "                        open_set.add(m)\n",
    "        if n == None:\n",
    "            print('path does not exist!')\n",
    "            return None\n",
    "        if n == stop_node:\n",
    "            path = []\n",
    "            while parents[n] != n:\n",
    "                path.append(n)\n",
    "                n = parents[n]\n",
    "            path.append(start_node)\n",
    "            path.reverse()\n",
    "            print('Path found: {}'.format(path))\n",
    "            return path\n",
    "        open_set.remove(n)\n",
    "        close_set.add(n)\n",
    "    print('Path does not exist')\n",
    "    return None          \n"
   ]
  },
  {
   "cell_type": "code",
   "execution_count": 2,
   "metadata": {},
   "outputs": [],
   "source": [
    "def get_neighbors(v):\n",
    "    if v in Graph_nodes:\n",
    "        return Graph_nodes[v]\n",
    "    else:\n",
    "        return None"
   ]
  },
  {
   "cell_type": "code",
   "execution_count": 3,
   "metadata": {},
   "outputs": [],
   "source": [
    "def heuristic(n):\n",
    "    H_dist = {\n",
    "        'A': 11,\n",
    "        'B': 6,\n",
    "        'C': 99,\n",
    "        'D': 1,\n",
    "        'E': 7,\n",
    "        'G': 0\n",
    "    }\n",
    "    return H_dist[n]"
   ]
  },
  {
   "cell_type": "code",
   "execution_count": 4,
   "metadata": {},
   "outputs": [
    {
     "name": "stdout",
     "output_type": "stream",
     "text": [
      "Path found: ['A', 'E', 'D', 'G']\n"
     ]
    },
    {
     "data": {
      "text/plain": [
       "['A', 'E', 'D', 'G']"
      ]
     },
     "execution_count": 4,
     "metadata": {},
     "output_type": "execute_result"
    }
   ],
   "source": [
    "Graph_nodes = {\n",
    "    'A': [('B', 2), ('E', 3)],\n",
    "    'B': [('C', 1), ('G', 9)],\n",
    "    'C': None,\n",
    "    'E': [('D', 6)],\n",
    "    'D': [('G', 1)],\n",
    "}\n",
    "aStarAlgo('A', 'G')"
   ]
  }
 ],
 "metadata": {
  "kernelspec": {
   "display_name": "venv",
   "language": "python",
   "name": "python3"
  },
  "language_info": {
   "codemirror_mode": {
    "name": "ipython",
    "version": 3
   },
   "file_extension": ".py",
   "mimetype": "text/x-python",
   "name": "python",
   "nbconvert_exporter": "python",
   "pygments_lexer": "ipython3",
   "version": "3.9.12"
  },
  "orig_nbformat": 4
 },
 "nbformat": 4,
 "nbformat_minor": 2
}
