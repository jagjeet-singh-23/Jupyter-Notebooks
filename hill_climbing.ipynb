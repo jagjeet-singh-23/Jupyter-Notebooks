{
 "cells": [
  {
   "attachments": {},
   "cell_type": "markdown",
   "metadata": {},
   "source": [
    "AIM:\n",
    "Use the hill climbing algorithm to find the maximum value of a function within a given range"
   ]
  },
  {
   "attachments": {},
   "cell_type": "markdown",
   "metadata": {},
   "source": [
    "THEORY:\n",
    "Hill climbing algorithms evaluate nodes based on the cost of the current node and the cost of its neighbors. They only consider the immediate neighbors of the current node and move to the neighbor with the lowest cost, if it is better than the current node. Hill climbing algorithms can get stuck in local optima and may not always find the global optimum."
   ]
  },
  {
   "attachments": {},
   "cell_type": "markdown",
   "metadata": {},
   "source": [
    "Algorithm:\n",
    "1. Evaluate the initial state, if it is goal state then return success and Stop.\n",
    "2. Loop Until a solution is found or there is no new operator left to apply.\n",
    "3. Select and apply an operator to the current state.\n",
    "4. Check new state:\n",
    "    1. If it is goal state, then return success and quit.\n",
    "    2. Else if it is better than the current state then assign new state as a current state.\n",
    "    3. Else if not better than the current state, then return to step2.\n",
    "5. Exit.\n"
   ]
  },
  {
   "cell_type": "code",
   "execution_count": 1,
   "metadata": {},
   "outputs": [
    {
     "name": "stdout",
     "output_type": "stream",
     "text": [
      "Maximum value found at x = 4.801028920361417 with value of f(x) = 44.96041050946746\n"
     ]
    }
   ],
   "source": [
    "import random\n",
    "import math\n",
    "\n",
    "# Define the function to be optimized\n",
    "def f(x):\n",
    "    return -x**2 + 10*x + 20\n",
    "\n",
    "# Define the range of values for x\n",
    "x_min = 0\n",
    "x_max = 10\n",
    "\n",
    "# Set the initial value of x\n",
    "x_current = random.uniform(x_min, x_max)\n",
    "\n",
    "# Set the step size for incremental changes to x\n",
    "step_size = 0.1\n",
    "\n",
    "# Loop until convergence or maximum number of iterations\n",
    "for i in range(100):\n",
    "    # Evaluate the current solution\n",
    "    f_current = f(x_current)\n",
    "    \n",
    "    # Generate a new solution by adding or subtracting the step size\n",
    "    x_new = x_current + random.uniform(-step_size, step_size)\n",
    "    \n",
    "    # Evaluate the new solution\n",
    "    f_new = f(x_new)\n",
    "    \n",
    "    # If the new solution is better, move to it\n",
    "    if f_new > f_current:\n",
    "        x_current = x_new\n",
    "    \n",
    "    # If the new solution is worse, move to it with a probability proportional to the difference in value\n",
    "    elif math.exp((f_new - f_current) / step_size) > random.uniform(0, 1):\n",
    "        x_current = x_new\n",
    "\n",
    "# Print the final solution\n",
    "print(\"Maximum value found at x =\", x_current, \"with value of f(x) =\", f(x_current))\n"
   ]
  }
 ],
 "metadata": {
  "kernelspec": {
   "display_name": "venv",
   "language": "python",
   "name": "python3"
  },
  "language_info": {
   "codemirror_mode": {
    "name": "ipython",
    "version": 3
   },
   "file_extension": ".py",
   "mimetype": "text/x-python",
   "name": "python",
   "nbconvert_exporter": "python",
   "pygments_lexer": "ipython3",
   "version": "3.9.12"
  },
  "orig_nbformat": 4,
  "vscode": {
   "interpreter": {
    "hash": "378e9721650daf1275fbbd7f5d83b138055c510d68b048ce8b3b18c38f93a2e6"
   }
  }
 },
 "nbformat": 4,
 "nbformat_minor": 2
}
