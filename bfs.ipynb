{
 "cells": [
  {
   "attachments": {},
   "cell_type": "markdown",
   "metadata": {},
   "source": [
    "AIM:\n",
    "Find the shortest from a source node to the destination node in a directed graph using th BFS algorithm."
   ]
  },
  {
   "attachments": {},
   "cell_type": "markdown",
   "metadata": {},
   "source": [
    "THEORY:\n",
    "Breadth-first search (BFS) is an algorithm used for traversing or searching a graph or tree data structure. It starts at the root node or any arbitrary node of the graph, and explores all the neighboring nodes at the current depth level before moving on to the next level.\n",
    "\n",
    "The steps involved in the BFS algorithm are as follows:\n",
    "\n",
    "    Initialize a queue and add the starting node to it.\n",
    "    Initialize a visited set and add the starting node to it.\n",
    "    While the queue is not empty, do the following:\n",
    "    a. Remove the first node from the queue.\n",
    "    b. If this node is the goal node or the node that you are searching for, return it.\n",
    "    c. Otherwise, mark this node as visited.\n",
    "    d. Add all of the unvisited neighbors of this node to the queue and mark them as visited.\n",
    "    If the goal node is not found, return an appropriate message."
   ]
  },
  {
   "cell_type": "code",
   "execution_count": 1,
   "metadata": {},
   "outputs": [],
   "source": [
    "from queue import Queue\n",
    "graph = {\n",
    "    'A': {'B': 2, 'C': 1},\n",
    "    'B': {'D': 5},\n",
    "    'C': {'D': 3},\n",
    "    'D': {'E': 4},\n",
    "    'E': {'F': 1},\n",
    "    'F': {}\n",
    "}"
   ]
  },
  {
   "cell_type": "code",
   "execution_count": 7,
   "metadata": {},
   "outputs": [],
   "source": [
    "def BFS(graph, start, stop):\n",
    "    q = Queue()\n",
    "    visited = set()\n",
    "    q.put(start)\n",
    "    visited.add(start)\n",
    "    distance = {start : 0}\n",
    "    while not q.empty():\n",
    "        node = q.get(start)\n",
    "        if node == stop:\n",
    "            path = [stop]\n",
    "            while path[-1] != start:\n",
    "                path.append(parents[path[-1]])\n",
    "            path.reverse()\n",
    "            return path, distance[stop]\n",
    "        for neighbor, weight in graph[node].items():\n",
    "            if neighbor not in visited:\n",
    "                visited.add(neighbor)\n",
    "                q.put(neighbor)\n",
    "                distance[neighbor] = distance[node] + weight\n",
    "                parents[neighbor] = node\n",
    "    return None, None"
   ]
  },
  {
   "cell_type": "code",
   "execution_count": 8,
   "metadata": {},
   "outputs": [
    {
     "name": "stdout",
     "output_type": "stream",
     "text": [
      "Shortest path from A to F: A -> B -> D -> E -> F\n",
      "Total distance: 12\n"
     ]
    }
   ],
   "source": [
    "start = 'A'\n",
    "stop = 'F'\n",
    "parents = {}\n",
    "path, total_distance = BFS(graph, start, stop)\n",
    "if path:\n",
    "    print(f\"Shortest path from {start} to {stop}: {' -> '.join(path)}\")\n",
    "    print(f\"Total distance: {total_distance}\")\n",
    "else:\n",
    "    print(f\"No path found from {start} to {stop}\")"
   ]
  }
 ],
 "metadata": {
  "kernelspec": {
   "display_name": "venv",
   "language": "python",
   "name": "python3"
  },
  "language_info": {
   "codemirror_mode": {
    "name": "ipython",
    "version": 3
   },
   "file_extension": ".py",
   "mimetype": "text/x-python",
   "name": "python",
   "nbconvert_exporter": "python",
   "pygments_lexer": "ipython3",
   "version": "3.9.12"
  },
  "orig_nbformat": 4
 },
 "nbformat": 4,
 "nbformat_minor": 2
}
